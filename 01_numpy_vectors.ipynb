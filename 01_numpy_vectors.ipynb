{
 "cells": [
  {
   "cell_type": "markdown",
   "id": "070865bf-f5c9-4b6f-a2b9-d0262ca64ce9",
   "metadata": {},
   "source": [
    "# Day 1: NumPy Vectors & Matrices (Placeholder)\n",
    "\n",
    "**Author:** Heymanshudeep Singh  \n",
    "**Date:** 05-30-2025  \n",
    "\n",
    "## Goals\n",
    "1. Refresh how to create and manipulate vectors/matrices in NumPy.\n",
    "2. Visualize a simple vector operation with matplotlib."
   ]
  },
  {
   "cell_type": "code",
   "execution_count": null,
   "id": "de0eecc1-488c-4afe-9347-a59b358a1b05",
   "metadata": {},
   "outputs": [],
   "source": []
  }
 ],
 "metadata": {
  "kernelspec": {
   "display_name": "Python 3 (ipykernel)",
   "language": "python",
   "name": "python3"
  },
  "language_info": {
   "codemirror_mode": {
    "name": "ipython",
    "version": 3
   },
   "file_extension": ".py",
   "mimetype": "text/x-python",
   "name": "python",
   "nbconvert_exporter": "python",
   "pygments_lexer": "ipython3",
   "version": "3.9.13"
  }
 },
 "nbformat": 4,
 "nbformat_minor": 5
}
